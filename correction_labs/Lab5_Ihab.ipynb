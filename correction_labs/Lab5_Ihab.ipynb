{
  "nbformat": 4,
  "nbformat_minor": 0,
  "metadata": {
    "colab": {
      "cell_execution_strategy": "setup",
      "provenance": []
    },
    "kernelspec": {
      "name": "python3",
      "display_name": "Python 3"
    },
    "language_info": {
      "name": "python"
    }
  },
  "cells": [
    {
      "cell_type": "markdown",
      "source": [
        "## Lab 5"
      ],
      "metadata": {
        "id": "v2IlHxAEuvlE"
      }
    },
    {
      "cell_type": "code",
      "source": [
        "%%bigquery\n",
        "DECLARE total_anomalies INT64;\n",
        "\n",
        "SET total_anomalies =\n",
        "(SELECT count(*) from `ventes_france.transactions` WHERE amount IS NULL OR amount = 0);\n",
        "\n",
        "IF total_anomalies > 2 THEN\n",
        "  SELECT \"TROP d'anomalies détéctées\" AS message;\n",
        "ELSE\n",
        "  SELECT \"Données conformes\" AS message;\n",
        "END IF\n",
        "\n",
        "IF total_anomalies > 0 THEN\n",
        "  DELETE FROM `ventes_france.transactions`\n",
        "  WHERE amount IS NULL OR amount = 0;\n",
        "  SELECT FORMAT(\"%d anomalies supprimées\", total_anomalies) AS info;\n",
        "END IF\n",
        "\n",
        "DECLARE store_name STRING;\n",
        "DECLARE store_cursor CURSOR FOR\n",
        "  SELECT DISTINCT store FROM `ventes_france.transactions`;\n",
        "\n",
        "LOOP\n",
        "  FETCH store_cursor INTO store_name;\n",
        "  IF store_cursor is DONE THEN\n",
        "    LEAVE;\n",
        "  END IF\n",
        "\n",
        "  SELECT FORMAT(\"Traitement du magasin : %s\", store_name) AS store_message;\n",
        "END LOOP"
      ],
      "metadata": {
        "id": "Ue10yKIcu1Nu"
      },
      "execution_count": null,
      "outputs": []
    }
  ]
}