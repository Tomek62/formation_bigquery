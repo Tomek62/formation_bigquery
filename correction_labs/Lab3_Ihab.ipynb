{
  "nbformat": 4,
  "nbformat_minor": 0,
  "metadata": {
    "colab": {
      "cell_execution_strategy": "setup",
      "provenance": []
    },
    "kernelspec": {
      "name": "python3",
      "display_name": "Python 3"
    },
    "language_info": {
      "name": "python"
    }
  },
  "cells": [
    {
      "cell_type": "markdown",
      "source": [
        "## Lab 3\n",
        "\n",
        "- Question 1: Version 1"
      ],
      "metadata": {
        "id": "BC6y_HCSxW-k"
      }
    },
    {
      "cell_type": "code",
      "source": [
        "%%bigquery\n",
        "SELECT\n",
        "  bike_id,\n",
        "  trip_id,\n",
        "  duration_minutes,\n",
        "  RANK() OVER (\n",
        "    PARTITION BY bike_id\n",
        "    ORDER BY duration_minutes DESC\n",
        "  ) AS rang_duree\n",
        "FROM\n",
        "  `bigquery-public-data.austin_bikeshare.bikeshare_trips`\n",
        "WHERE\n",
        "  bike_id IS NOT NULL\n",
        "QUALIFY\n",
        "  rang_duree <= 3;"
      ],
      "metadata": {
        "id": "h1Xk7yvTxa0C"
      },
      "execution_count": null,
      "outputs": []
    },
    {
      "cell_type": "markdown",
      "source": [
        "- Question 1 Version 2"
      ],
      "metadata": {
        "id": "7gezVkf-zPza"
      }
    },
    {
      "cell_type": "code",
      "source": [
        "%%bigquery\n",
        "SELECT * FROM (SELECT\n",
        "  bike_id,\n",
        "  trip_id,\n",
        "  duration_minutes,\n",
        "  RANK() OVER (\n",
        "    PARTITION BY bike_id\n",
        "    ORDER BY duration_minutes DESC\n",
        "  ) AS rang_duree\n",
        "FROM\n",
        "  `bigquery-public-data.austin_bikeshare.bikeshare_trips`\n",
        "WHERE\n",
        "  bike_id IS NOT NULL) WHERE rang_duree <= 3;"
      ],
      "metadata": {
        "id": "-Iit8PeJzRtz"
      },
      "execution_count": null,
      "outputs": []
    },
    {
      "cell_type": "markdown",
      "source": [
        "- Question 2"
      ],
      "metadata": {
        "id": "ZR2eaavczets"
      }
    },
    {
      "cell_type": "code",
      "source": [
        "%%bigquery\n",
        "SELECT\n",
        "  bike_id,\n",
        "  trip_id,\n",
        "  start_time,\n",
        "  duration_minutes,\n",
        "  LAG(duration_minutes) OVER (\n",
        "    PARTITION BY bike_id\n",
        "    ORDER BY start_time\n",
        "  ) AS duration_precedente\n",
        "FROM\n",
        "  `bigquery-public-data.austin_bikeshare.bikeshare_trips`\n",
        "WHERE\n",
        "  bike_id IS NOT NULL;"
      ],
      "metadata": {
        "id": "KV8HMFdVzil3"
      },
      "execution_count": null,
      "outputs": []
    },
    {
      "cell_type": "markdown",
      "source": [
        "- Question 3"
      ],
      "metadata": {
        "id": "elgh2dLD0x5b"
      }
    },
    {
      "cell_type": "code",
      "source": [
        "%%bigquery\n",
        "SELECT\n",
        "  bike_id,\n",
        "  start_time,\n",
        "  duration_minutes,\n",
        "  AVG(duration_minutes) OVER (\n",
        "    PARTITION BY bike_id\n",
        "    ORDER BY start_time\n",
        "    ROWS BETWEEN 2 PRECEDING AND CURRENT ROW\n",
        "  ) AS moyenne_mobile_3\n",
        "FROM\n",
        "  `bigquery-public-data.austin_bikeshare.bikeshare_trips`\n",
        "WHERE\n",
        "  bike_id IS NOT NULL\n",
        "ORDER BY bike_id, start_time"
      ],
      "metadata": {
        "id": "UbvYfyxZ0zMw"
      },
      "execution_count": null,
      "outputs": []
    },
    {
      "cell_type": "markdown",
      "source": [
        "- Question 4"
      ],
      "metadata": {
        "id": "1K94Gzp11tqB"
      }
    },
    {
      "cell_type": "code",
      "source": [
        "%%bigquery\n",
        "WITH trajets_recents AS (\n",
        "  SELECT *\n",
        "  FROM `bigquery-public-data.austin_bikeshare.bikeshare_trips`\n",
        "  WHERE start_time >= '2017-01-01'\n",
        ")\n",
        "SELECT\n",
        "  start_station_id,\n",
        "  start_station_name,\n",
        "  COUNT(*) AS total_trajets\n",
        "FROM\n",
        "  trajets_recents\n",
        "GROUP BY\n",
        "  start_station_id, start_station_name\n",
        "ORDER BY\n",
        "  total_trajets DESC;"
      ],
      "metadata": {
        "id": "tFLLql101u-I"
      },
      "execution_count": null,
      "outputs": []
    },
    {
      "cell_type": "markdown",
      "source": [
        "- Question 5"
      ],
      "metadata": {
        "id": "zTUjFhtL2Itu"
      }
    },
    {
      "cell_type": "code",
      "source": [
        "%%bigquery\n",
        "SELECT\n",
        "  bike_id,\n",
        "  trip_id,\n",
        "  start_time,\n",
        "  start_station_id,\n",
        "  FIRST_VALUE(start_station_id) OVER (\n",
        "    PARTITION BY bike_id\n",
        "    ORDER BY start_time\n",
        "  ) AS premiere_station_utilisee\n",
        "FROM\n",
        "  `bigquery-public-data.austin_bikeshare.bikeshare_trips`\n",
        "WHERE\n",
        "  bike_id IS NOT NULL;"
      ],
      "metadata": {
        "id": "srKBqffz2IKw"
      },
      "execution_count": null,
      "outputs": []
    },
    {
      "cell_type": "markdown",
      "source": [
        "- Question 6"
      ],
      "metadata": {
        "id": "ejV5uSqP28BM"
      }
    },
    {
      "cell_type": "code",
      "source": [
        "%%bigquery\n",
        "SELECT\n",
        "  bike_id,\n",
        "  start_time,\n",
        "  duration_minutes,\n",
        "  SUM(duration_minutes) OVER (\n",
        "    PARTITION BY bike_id\n",
        "    ORDER BY start_time\n",
        "    --ROWS BETWEEN UNBOUNDED PRECEDING AND CURRENT ROW\n",
        "  ) AS total_minutes_cumulees\n",
        "FROM\n",
        "  `bigquery-public-data.austin_bikeshare.bikeshare_trips`\n",
        "WHERE\n",
        "  bike_id IS NOT NULL\n",
        "  ORDER BY bike_id, start_time\n",
        "  ;"
      ],
      "metadata": {
        "id": "mMJyazQZ29Zv"
      },
      "execution_count": null,
      "outputs": []
    }
  ]
}