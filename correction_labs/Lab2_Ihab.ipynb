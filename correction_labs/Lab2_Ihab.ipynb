{
  "nbformat": 4,
  "nbformat_minor": 0,
  "metadata": {
    "colab": {
      "cell_execution_strategy": "setup",
      "provenance": []
    },
    "kernelspec": {
      "name": "python3",
      "display_name": "Python 3"
    },
    "language_info": {
      "name": "python"
    }
  },
  "cells": [
    {
      "cell_type": "markdown",
      "source": [
        "## Lab 2\n",
        "- Question 1"
      ],
      "metadata": {
        "id": "QG7h62Nl6I8m"
      }
    },
    {
      "cell_type": "code",
      "source": [
        "%%bigquery\n",
        "SELECT\n",
        "  trip_id,\n",
        "  start_time,\n",
        "  start_station_id,\n",
        "  end_station_id,\n",
        "  duration_minutes\n",
        "FROM\n",
        "  `bigquery-public-data.austin_bikeshare.bikeshare_trips`\n",
        "LIMIT 10;"
      ],
      "metadata": {
        "id": "umZCMkud6Pau"
      },
      "execution_count": null,
      "outputs": []
    },
    {
      "cell_type": "markdown",
      "source": [
        "- Question 2"
      ],
      "metadata": {
        "id": "F2rC94Zf7SMd"
      }
    },
    {
      "cell_type": "code",
      "source": [
        "%%bigquery\n",
        "SELECT\n",
        "  t.trip_id,\n",
        "  t.start_time,\n",
        "  t.start_station_id,\n",
        "  s.name as start_station_name\n",
        "  t.end_station_id,\n",
        "  t.duration_minutes\n",
        "FROM\n",
        "  `bigquery-public-data.austin_bikeshare.bikeshare_trips` t\n",
        "  JOIN\n",
        "  `bigquery-public-data.austin_bikeshare.bikeshare_stations` s\n",
        "  ON\n",
        "    t.start_station_id = s.station_id\n"
      ],
      "metadata": {
        "id": "64XnCFOg6rKh"
      },
      "execution_count": null,
      "outputs": []
    },
    {
      "cell_type": "markdown",
      "source": [
        "- Question 3"
      ],
      "metadata": {
        "id": "zsjQ3JlM7UsK"
      }
    },
    {
      "cell_type": "code",
      "source": [
        "%%bigquery\n",
        "SELECT\n",
        "  s.name AS start_station_name,\n",
        "  COUNT(*) AS total_trips\n",
        "FROM\n",
        "  `bigquery-public-data.austin_bikeshare.bikeshare_trips` t\n",
        "JOIN\n",
        "  `bigquery-public-data.austin_bikeshare.bikeshare_stations` s\n",
        "ON\n",
        "  t.start_station_id = s.station_id\n",
        "GROUP BY\n",
        "  start_station_name\n",
        "ORDER BY\n",
        "  total_trips DESC\n",
        "LIMIT 10;"
      ],
      "metadata": {
        "id": "7rMwyNLt7XET"
      },
      "execution_count": null,
      "outputs": []
    },
    {
      "cell_type": "markdown",
      "source": [
        "- Question 4"
      ],
      "metadata": {
        "id": "rFBOIQkg83YS"
      }
    },
    {
      "cell_type": "code",
      "source": [
        "%%bigquery\n",
        "SELECT\n",
        "  trip_id,\n",
        "  start_time,\n",
        "  start_station_id,\n",
        "  end_station_id,\n",
        "  duration_minutes\n",
        "FROM\n",
        "  `bigquery-public-data.austin_bikeshare.bikeshare_trips`\n",
        "WHERE\n",
        "start_station_id IN\n",
        "(\n",
        "  SELECT\n",
        "    start_station_id\n",
        "    FROM\n",
        "    `bigquery-public-data.austin_bikeshare.bikeshare_trips`\n",
        "    GROUP BY\n",
        "    start_station_id\n",
        "    ORDER BY COUNT(*)\n",
        "    DESC LIMIT 5\n",
        ")\n",
        "ORDER BY start_time DESC;"
      ],
      "metadata": {
        "id": "14THy5IB85ec"
      },
      "execution_count": null,
      "outputs": []
    },
    {
      "cell_type": "markdown",
      "source": [
        "- Question 5"
      ],
      "metadata": {
        "id": "StmfAue9CN3L"
      }
    },
    {
      "cell_type": "code",
      "source": [
        "%%bigquery\n",
        "SELECT\n",
        "  start_station_id,\n",
        "  avg_duration\n",
        "FROM (\n",
        "  SELECT\n",
        "    start_station_id,\n",
        "    AVG(duration_minutes) AS avg_duration\n",
        "  FROM\n",
        "    `bigquery-public-data.austin_bikeshare.bikeshare_trips`\n",
        "  GROUP BY\n",
        "    start_station_id\n",
        ")\n",
        "ORDER BY\n",
        "  avg_duration DESC\n",
        "LIMIT 10;"
      ],
      "metadata": {
        "id": "wnBiWbZ-CPv4"
      },
      "execution_count": null,
      "outputs": []
    },
    {
      "cell_type": "markdown",
      "source": [
        "- Question 6"
      ],
      "metadata": {
        "id": "hwKxeASkDPDH"
      }
    },
    {
      "cell_type": "code",
      "source": [
        "%%bigquery\n",
        "SELECT\n",
        "  s.name AS station_name,\n",
        "  (\n",
        "    SELECT COUNT(*)\n",
        "    FROM `bigquery-public-data.austin_bikeshare.bikeshare_trips` t\n",
        "    WHERE t.start_station_id = s.station_id\n",
        "  ) AS total_trips_from_station\n",
        "FROM\n",
        "  `bigquery-public-data.austin_bikeshare.bikeshare_stations` s;"
      ],
      "metadata": {
        "id": "5LwVNrmuDQRg"
      },
      "execution_count": null,
      "outputs": []
    },
    {
      "cell_type": "markdown",
      "source": [
        "- Question 7"
      ],
      "metadata": {
        "id": "nyc2qjT6DS_9"
      }
    },
    {
      "cell_type": "code",
      "source": [
        "%%bigquery\n",
        "SELECT\n",
        "  t.trip_id,\n",
        "  s_start.name AS start_station_name,\n",
        "  s_end.name AS end_station_name,\n",
        "  t.start_time,\n",
        "  t.duration_minutes\n",
        "FROM\n",
        "  `bigquery-public-data.austin_bikeshare.bikeshare_trips` t\n",
        "LEFT JOIN\n",
        "  `bigquery-public-data.austin_bikeshare.bikeshare_stations` s_start\n",
        "ON\n",
        "  CAST(t.start_station_id AS STRING) = CAST(s_start.station_id AS STRING)\n",
        "LEFT JOIN\n",
        "  `bigquery-public-data.austin_bikeshare.bikeshare_stations` s_end\n",
        "ON\n",
        "  CAST(t.end_station_id AS STRING) = CAST(s_end.station_id AS STRING);"
      ],
      "metadata": {
        "id": "9x63nLVvDUoA"
      },
      "execution_count": null,
      "outputs": []
    }
  ]
}